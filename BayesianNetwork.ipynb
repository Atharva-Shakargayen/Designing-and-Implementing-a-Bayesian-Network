{
  "cells": [
    {
      "cell_type": "markdown",
      "metadata": {
        "id": "nAyOkHF9gd9N"
      },
      "source": [
        "### Module 2: Bayesian Network - Demo 1: Late to Office"
      ]
    },
    {
      "cell_type": "code",
      "source": [
        "!pip install pgmpy==0.1.21"
      ],
      "metadata": {
        "colab": {
          "base_uri": "https://localhost:8080/"
        },
        "id": "vDkbhhfFgisd",
        "outputId": "821210c7-e35e-45f4-c8c4-2bbb7860ddc9"
      },
      "execution_count": null,
      "outputs": [
        {
          "output_type": "stream",
          "name": "stdout",
          "text": [
            "Collecting pgmpy==0.1.21\n",
            "  Downloading pgmpy-0.1.21-py3-none-any.whl.metadata (6.4 kB)\n",
            "Requirement already satisfied: networkx in /usr/local/lib/python3.11/dist-packages (from pgmpy==0.1.21) (3.5)\n",
            "Requirement already satisfied: numpy in /usr/local/lib/python3.11/dist-packages (from pgmpy==0.1.21) (2.0.2)\n",
            "Requirement already satisfied: scipy in /usr/local/lib/python3.11/dist-packages (from pgmpy==0.1.21) (1.15.3)\n",
            "Requirement already satisfied: scikit-learn in /usr/local/lib/python3.11/dist-packages (from pgmpy==0.1.21) (1.6.1)\n",
            "Requirement already satisfied: pandas in /usr/local/lib/python3.11/dist-packages (from pgmpy==0.1.21) (2.2.2)\n",
            "Requirement already satisfied: pyparsing in /usr/local/lib/python3.11/dist-packages (from pgmpy==0.1.21) (3.2.3)\n",
            "Requirement already satisfied: torch in /usr/local/lib/python3.11/dist-packages (from pgmpy==0.1.21) (2.6.0+cu124)\n",
            "Requirement already satisfied: statsmodels in /usr/local/lib/python3.11/dist-packages (from pgmpy==0.1.21) (0.14.5)\n",
            "Requirement already satisfied: tqdm in /usr/local/lib/python3.11/dist-packages (from pgmpy==0.1.21) (4.67.1)\n",
            "Requirement already satisfied: joblib in /usr/local/lib/python3.11/dist-packages (from pgmpy==0.1.21) (1.5.1)\n",
            "Requirement already satisfied: opt-einsum in /usr/local/lib/python3.11/dist-packages (from pgmpy==0.1.21) (3.4.0)\n",
            "Requirement already satisfied: python-dateutil>=2.8.2 in /usr/local/lib/python3.11/dist-packages (from pandas->pgmpy==0.1.21) (2.9.0.post0)\n",
            "Requirement already satisfied: pytz>=2020.1 in /usr/local/lib/python3.11/dist-packages (from pandas->pgmpy==0.1.21) (2025.2)\n",
            "Requirement already satisfied: tzdata>=2022.7 in /usr/local/lib/python3.11/dist-packages (from pandas->pgmpy==0.1.21) (2025.2)\n",
            "Requirement already satisfied: threadpoolctl>=3.1.0 in /usr/local/lib/python3.11/dist-packages (from scikit-learn->pgmpy==0.1.21) (3.6.0)\n",
            "Requirement already satisfied: patsy>=0.5.6 in /usr/local/lib/python3.11/dist-packages (from statsmodels->pgmpy==0.1.21) (1.0.1)\n",
            "Requirement already satisfied: packaging>=21.3 in /usr/local/lib/python3.11/dist-packages (from statsmodels->pgmpy==0.1.21) (25.0)\n",
            "Requirement already satisfied: filelock in /usr/local/lib/python3.11/dist-packages (from torch->pgmpy==0.1.21) (3.18.0)\n",
            "Requirement already satisfied: typing-extensions>=4.10.0 in /usr/local/lib/python3.11/dist-packages (from torch->pgmpy==0.1.21) (4.14.1)\n",
            "Requirement already satisfied: jinja2 in /usr/local/lib/python3.11/dist-packages (from torch->pgmpy==0.1.21) (3.1.6)\n",
            "Requirement already satisfied: fsspec in /usr/local/lib/python3.11/dist-packages (from torch->pgmpy==0.1.21) (2025.3.2)\n",
            "Collecting nvidia-cuda-nvrtc-cu12==12.4.127 (from torch->pgmpy==0.1.21)\n",
            "  Downloading nvidia_cuda_nvrtc_cu12-12.4.127-py3-none-manylinux2014_x86_64.whl.metadata (1.5 kB)\n",
            "Collecting nvidia-cuda-runtime-cu12==12.4.127 (from torch->pgmpy==0.1.21)\n",
            "  Downloading nvidia_cuda_runtime_cu12-12.4.127-py3-none-manylinux2014_x86_64.whl.metadata (1.5 kB)\n",
            "Collecting nvidia-cuda-cupti-cu12==12.4.127 (from torch->pgmpy==0.1.21)\n",
            "  Downloading nvidia_cuda_cupti_cu12-12.4.127-py3-none-manylinux2014_x86_64.whl.metadata (1.6 kB)\n",
            "Collecting nvidia-cudnn-cu12==9.1.0.70 (from torch->pgmpy==0.1.21)\n",
            "  Downloading nvidia_cudnn_cu12-9.1.0.70-py3-none-manylinux2014_x86_64.whl.metadata (1.6 kB)\n",
            "Collecting nvidia-cublas-cu12==12.4.5.8 (from torch->pgmpy==0.1.21)\n",
            "  Downloading nvidia_cublas_cu12-12.4.5.8-py3-none-manylinux2014_x86_64.whl.metadata (1.5 kB)\n",
            "Collecting nvidia-cufft-cu12==11.2.1.3 (from torch->pgmpy==0.1.21)\n",
            "  Downloading nvidia_cufft_cu12-11.2.1.3-py3-none-manylinux2014_x86_64.whl.metadata (1.5 kB)\n",
            "Collecting nvidia-curand-cu12==10.3.5.147 (from torch->pgmpy==0.1.21)\n",
            "  Downloading nvidia_curand_cu12-10.3.5.147-py3-none-manylinux2014_x86_64.whl.metadata (1.5 kB)\n",
            "Collecting nvidia-cusolver-cu12==11.6.1.9 (from torch->pgmpy==0.1.21)\n",
            "  Downloading nvidia_cusolver_cu12-11.6.1.9-py3-none-manylinux2014_x86_64.whl.metadata (1.6 kB)\n",
            "Collecting nvidia-cusparse-cu12==12.3.1.170 (from torch->pgmpy==0.1.21)\n",
            "  Downloading nvidia_cusparse_cu12-12.3.1.170-py3-none-manylinux2014_x86_64.whl.metadata (1.6 kB)\n",
            "Requirement already satisfied: nvidia-cusparselt-cu12==0.6.2 in /usr/local/lib/python3.11/dist-packages (from torch->pgmpy==0.1.21) (0.6.2)\n",
            "Requirement already satisfied: nvidia-nccl-cu12==2.21.5 in /usr/local/lib/python3.11/dist-packages (from torch->pgmpy==0.1.21) (2.21.5)\n",
            "Requirement already satisfied: nvidia-nvtx-cu12==12.4.127 in /usr/local/lib/python3.11/dist-packages (from torch->pgmpy==0.1.21) (12.4.127)\n",
            "Collecting nvidia-nvjitlink-cu12==12.4.127 (from torch->pgmpy==0.1.21)\n",
            "  Downloading nvidia_nvjitlink_cu12-12.4.127-py3-none-manylinux2014_x86_64.whl.metadata (1.5 kB)\n",
            "Requirement already satisfied: triton==3.2.0 in /usr/local/lib/python3.11/dist-packages (from torch->pgmpy==0.1.21) (3.2.0)\n",
            "Requirement already satisfied: sympy==1.13.1 in /usr/local/lib/python3.11/dist-packages (from torch->pgmpy==0.1.21) (1.13.1)\n",
            "Requirement already satisfied: mpmath<1.4,>=1.1.0 in /usr/local/lib/python3.11/dist-packages (from sympy==1.13.1->torch->pgmpy==0.1.21) (1.3.0)\n",
            "Requirement already satisfied: six>=1.5 in /usr/local/lib/python3.11/dist-packages (from python-dateutil>=2.8.2->pandas->pgmpy==0.1.21) (1.17.0)\n",
            "Requirement already satisfied: MarkupSafe>=2.0 in /usr/local/lib/python3.11/dist-packages (from jinja2->torch->pgmpy==0.1.21) (3.0.2)\n",
            "Downloading pgmpy-0.1.21-py3-none-any.whl (1.9 MB)\n",
            "\u001b[2K   \u001b[90m━━━━━━━━━━━━━━━━━━━━━━━━━━━━━━━━━━━━━━━━\u001b[0m \u001b[32m1.9/1.9 MB\u001b[0m \u001b[31m27.5 MB/s\u001b[0m eta \u001b[36m0:00:00\u001b[0m\n",
            "\u001b[?25hDownloading nvidia_cublas_cu12-12.4.5.8-py3-none-manylinux2014_x86_64.whl (363.4 MB)\n",
            "\u001b[2K   \u001b[90m━━━━━━━━━━━━━━━━━━━━━━━━━━━━━━━━━━━━━━━━\u001b[0m \u001b[32m363.4/363.4 MB\u001b[0m \u001b[31m4.8 MB/s\u001b[0m eta \u001b[36m0:00:00\u001b[0m\n",
            "\u001b[?25hDownloading nvidia_cuda_cupti_cu12-12.4.127-py3-none-manylinux2014_x86_64.whl (13.8 MB)\n",
            "\u001b[2K   \u001b[90m━━━━━━━━━━━━━━━━━━━━━━━━━━━━━━━━━━━━━━━━\u001b[0m \u001b[32m13.8/13.8 MB\u001b[0m \u001b[31m81.1 MB/s\u001b[0m eta \u001b[36m0:00:00\u001b[0m\n",
            "\u001b[?25hDownloading nvidia_cuda_nvrtc_cu12-12.4.127-py3-none-manylinux2014_x86_64.whl (24.6 MB)\n",
            "\u001b[2K   \u001b[90m━━━━━━━━━━━━━━━━━━━━━━━━━━━━━━━━━━━━━━━━\u001b[0m \u001b[32m24.6/24.6 MB\u001b[0m \u001b[31m58.7 MB/s\u001b[0m eta \u001b[36m0:00:00\u001b[0m\n",
            "\u001b[?25hDownloading nvidia_cuda_runtime_cu12-12.4.127-py3-none-manylinux2014_x86_64.whl (883 kB)\n",
            "\u001b[2K   \u001b[90m━━━━━━━━━━━━━━━━━━━━━━━━━━━━━━━━━━━━━━━━\u001b[0m \u001b[32m883.7/883.7 kB\u001b[0m \u001b[31m36.1 MB/s\u001b[0m eta \u001b[36m0:00:00\u001b[0m\n",
            "\u001b[?25hDownloading nvidia_cudnn_cu12-9.1.0.70-py3-none-manylinux2014_x86_64.whl (664.8 MB)\n",
            "\u001b[2K   \u001b[90m━━━━━━━━━━━━━━━━━━━━━━━━━━━━━━━━━━━━━━━━\u001b[0m \u001b[32m664.8/664.8 MB\u001b[0m \u001b[31m1.3 MB/s\u001b[0m eta \u001b[36m0:00:00\u001b[0m\n",
            "\u001b[?25hDownloading nvidia_cufft_cu12-11.2.1.3-py3-none-manylinux2014_x86_64.whl (211.5 MB)\n",
            "\u001b[2K   \u001b[90m━━━━━━━━━━━━━━━━━━━━━━━━━━━━━━━━━━━━━━━━\u001b[0m \u001b[32m211.5/211.5 MB\u001b[0m \u001b[31m5.8 MB/s\u001b[0m eta \u001b[36m0:00:00\u001b[0m\n",
            "\u001b[?25hDownloading nvidia_curand_cu12-10.3.5.147-py3-none-manylinux2014_x86_64.whl (56.3 MB)\n",
            "\u001b[2K   \u001b[90m━━━━━━━━━━━━━━━━━━━━━━━━━━━━━━━━━━━━━━━━\u001b[0m \u001b[32m56.3/56.3 MB\u001b[0m \u001b[31m11.8 MB/s\u001b[0m eta \u001b[36m0:00:00\u001b[0m\n",
            "\u001b[?25hDownloading nvidia_cusolver_cu12-11.6.1.9-py3-none-manylinux2014_x86_64.whl (127.9 MB)\n",
            "\u001b[2K   \u001b[90m━━━━━━━━━━━━━━━━━━━━━━━━━━━━━━━━━━━━━━━━\u001b[0m \u001b[32m127.9/127.9 MB\u001b[0m \u001b[31m7.8 MB/s\u001b[0m eta \u001b[36m0:00:00\u001b[0m\n",
            "\u001b[?25hDownloading nvidia_cusparse_cu12-12.3.1.170-py3-none-manylinux2014_x86_64.whl (207.5 MB)\n",
            "\u001b[2K   \u001b[90m━━━━━━━━━━━━━━━━━━━━━━━━━━━━━━━━━━━━━━━━\u001b[0m \u001b[32m207.5/207.5 MB\u001b[0m \u001b[31m5.9 MB/s\u001b[0m eta \u001b[36m0:00:00\u001b[0m\n",
            "\u001b[?25hDownloading nvidia_nvjitlink_cu12-12.4.127-py3-none-manylinux2014_x86_64.whl (21.1 MB)\n",
            "\u001b[2K   \u001b[90m━━━━━━━━━━━━━━━━━━━━━━━━━━━━━━━━━━━━━━━━\u001b[0m \u001b[32m21.1/21.1 MB\u001b[0m \u001b[31m49.3 MB/s\u001b[0m eta \u001b[36m0:00:00\u001b[0m\n",
            "\u001b[?25hInstalling collected packages: nvidia-nvjitlink-cu12, nvidia-curand-cu12, nvidia-cufft-cu12, nvidia-cuda-runtime-cu12, nvidia-cuda-nvrtc-cu12, nvidia-cuda-cupti-cu12, nvidia-cublas-cu12, nvidia-cusparse-cu12, nvidia-cudnn-cu12, nvidia-cusolver-cu12, pgmpy\n",
            "  Attempting uninstall: nvidia-nvjitlink-cu12\n",
            "    Found existing installation: nvidia-nvjitlink-cu12 12.5.82\n",
            "    Uninstalling nvidia-nvjitlink-cu12-12.5.82:\n",
            "      Successfully uninstalled nvidia-nvjitlink-cu12-12.5.82\n",
            "  Attempting uninstall: nvidia-curand-cu12\n",
            "    Found existing installation: nvidia-curand-cu12 10.3.6.82\n",
            "    Uninstalling nvidia-curand-cu12-10.3.6.82:\n",
            "      Successfully uninstalled nvidia-curand-cu12-10.3.6.82\n",
            "  Attempting uninstall: nvidia-cufft-cu12\n",
            "    Found existing installation: nvidia-cufft-cu12 11.2.3.61\n",
            "    Uninstalling nvidia-cufft-cu12-11.2.3.61:\n",
            "      Successfully uninstalled nvidia-cufft-cu12-11.2.3.61\n",
            "  Attempting uninstall: nvidia-cuda-runtime-cu12\n",
            "    Found existing installation: nvidia-cuda-runtime-cu12 12.5.82\n",
            "    Uninstalling nvidia-cuda-runtime-cu12-12.5.82:\n",
            "      Successfully uninstalled nvidia-cuda-runtime-cu12-12.5.82\n",
            "  Attempting uninstall: nvidia-cuda-nvrtc-cu12\n",
            "    Found existing installation: nvidia-cuda-nvrtc-cu12 12.5.82\n",
            "    Uninstalling nvidia-cuda-nvrtc-cu12-12.5.82:\n",
            "      Successfully uninstalled nvidia-cuda-nvrtc-cu12-12.5.82\n",
            "  Attempting uninstall: nvidia-cuda-cupti-cu12\n",
            "    Found existing installation: nvidia-cuda-cupti-cu12 12.5.82\n",
            "    Uninstalling nvidia-cuda-cupti-cu12-12.5.82:\n",
            "      Successfully uninstalled nvidia-cuda-cupti-cu12-12.5.82\n",
            "  Attempting uninstall: nvidia-cublas-cu12\n",
            "    Found existing installation: nvidia-cublas-cu12 12.5.3.2\n",
            "    Uninstalling nvidia-cublas-cu12-12.5.3.2:\n",
            "      Successfully uninstalled nvidia-cublas-cu12-12.5.3.2\n",
            "  Attempting uninstall: nvidia-cusparse-cu12\n",
            "    Found existing installation: nvidia-cusparse-cu12 12.5.1.3\n",
            "    Uninstalling nvidia-cusparse-cu12-12.5.1.3:\n",
            "      Successfully uninstalled nvidia-cusparse-cu12-12.5.1.3\n",
            "  Attempting uninstall: nvidia-cudnn-cu12\n",
            "    Found existing installation: nvidia-cudnn-cu12 9.3.0.75\n",
            "    Uninstalling nvidia-cudnn-cu12-9.3.0.75:\n",
            "      Successfully uninstalled nvidia-cudnn-cu12-9.3.0.75\n",
            "  Attempting uninstall: nvidia-cusolver-cu12\n",
            "    Found existing installation: nvidia-cusolver-cu12 11.6.3.83\n",
            "    Uninstalling nvidia-cusolver-cu12-11.6.3.83:\n",
            "      Successfully uninstalled nvidia-cusolver-cu12-11.6.3.83\n",
            "Successfully installed nvidia-cublas-cu12-12.4.5.8 nvidia-cuda-cupti-cu12-12.4.127 nvidia-cuda-nvrtc-cu12-12.4.127 nvidia-cuda-runtime-cu12-12.4.127 nvidia-cudnn-cu12-9.1.0.70 nvidia-cufft-cu12-11.2.1.3 nvidia-curand-cu12-10.3.5.147 nvidia-cusolver-cu12-11.6.1.9 nvidia-cusparse-cu12-12.3.1.170 nvidia-nvjitlink-cu12-12.4.127 pgmpy-0.1.21\n"
          ]
        }
      ]
    },
    {
      "cell_type": "code",
      "source": [
        "!pip install numpy==1.24.4"
      ],
      "metadata": {
        "colab": {
          "base_uri": "https://localhost:8080/",
          "height": 460
        },
        "id": "xW3AKGQFgiFX",
        "outputId": "a09f09f7-3f94-480c-c52a-fa6105fb4d18"
      },
      "execution_count": null,
      "outputs": [
        {
          "output_type": "stream",
          "name": "stdout",
          "text": [
            "Collecting numpy==1.24.4\n",
            "  Downloading numpy-1.24.4-cp311-cp311-manylinux_2_17_x86_64.manylinux2014_x86_64.whl.metadata (5.6 kB)\n",
            "Downloading numpy-1.24.4-cp311-cp311-manylinux_2_17_x86_64.manylinux2014_x86_64.whl (17.3 MB)\n",
            "\u001b[2K   \u001b[90m━━━━━━━━━━━━━━━━━━━━━━━━━━━━━━━━━━━━━━━━\u001b[0m \u001b[32m17.3/17.3 MB\u001b[0m \u001b[31m45.4 MB/s\u001b[0m eta \u001b[36m0:00:00\u001b[0m\n",
            "\u001b[?25hInstalling collected packages: numpy\n",
            "  Attempting uninstall: numpy\n",
            "    Found existing installation: numpy 2.0.2\n",
            "    Uninstalling numpy-2.0.2:\n",
            "      Successfully uninstalled numpy-2.0.2\n",
            "\u001b[31mERROR: pip's dependency resolver does not currently take into account all the packages that are installed. This behaviour is the source of the following dependency conflicts.\n",
            "jaxlib 0.5.1 requires numpy>=1.25, but you have numpy 1.24.4 which is incompatible.\n",
            "blosc2 3.6.1 requires numpy>=1.26, but you have numpy 1.24.4 which is incompatible.\n",
            "opencv-python-headless 4.12.0.88 requires numpy<2.3.0,>=2; python_version >= \"3.9\", but you have numpy 1.24.4 which is incompatible.\n",
            "jax 0.5.2 requires numpy>=1.25, but you have numpy 1.24.4 which is incompatible.\n",
            "xarray-einstats 0.9.1 requires numpy>=1.25, but you have numpy 1.24.4 which is incompatible.\n",
            "pymc 5.24.0 requires numpy>=1.25.0, but you have numpy 1.24.4 which is incompatible.\n",
            "treescope 0.1.9 requires numpy>=1.25.2, but you have numpy 1.24.4 which is incompatible.\n",
            "thinc 8.3.6 requires numpy<3.0.0,>=2.0.0, but you have numpy 1.24.4 which is incompatible.\n",
            "tensorflow 2.18.0 requires numpy<2.1.0,>=1.26.0, but you have numpy 1.24.4 which is incompatible.\u001b[0m\u001b[31m\n",
            "\u001b[0mSuccessfully installed numpy-1.24.4\n"
          ]
        },
        {
          "output_type": "display_data",
          "data": {
            "application/vnd.colab-display-data+json": {
              "pip_warning": {
                "packages": [
                  "numpy"
                ]
              },
              "id": "7c9cc7a92cea49cb913f2cc05baaded6"
            }
          },
          "metadata": {}
        }
      ]
    },
    {
      "cell_type": "code",
      "execution_count": null,
      "metadata": {
        "collapsed": true,
        "colab": {
          "base_uri": "https://localhost:8080/",
          "height": 331
        },
        "id": "xzdKZpi2gd9P",
        "outputId": "d9f2c19c-3262-41eb-bee9-af938e367078"
      },
      "outputs": [
        {
          "output_type": "error",
          "ename": "ModuleNotFoundError",
          "evalue": "No module named 'pgmpy'",
          "traceback": [
            "\u001b[0;31m---------------------------------------------------------------------------\u001b[0m",
            "\u001b[0;31mModuleNotFoundError\u001b[0m                       Traceback (most recent call last)",
            "\u001b[0;32m/tmp/ipython-input-1-4032301684.py\u001b[0m in \u001b[0;36m<cell line: 0>\u001b[0;34m()\u001b[0m\n\u001b[1;32m      1\u001b[0m \u001b[0;31m#Bayesian Model\u001b[0m\u001b[0;34m\u001b[0m\u001b[0;34m\u001b[0m\u001b[0m\n\u001b[0;32m----> 2\u001b[0;31m \u001b[0;32mfrom\u001b[0m \u001b[0mpgmpy\u001b[0m\u001b[0;34m.\u001b[0m\u001b[0mmodels\u001b[0m \u001b[0;32mimport\u001b[0m \u001b[0mBayesianModel\u001b[0m\u001b[0;34m\u001b[0m\u001b[0;34m\u001b[0m\u001b[0m\n\u001b[0m",
            "\u001b[0;31mModuleNotFoundError\u001b[0m: No module named 'pgmpy'",
            "",
            "\u001b[0;31m---------------------------------------------------------------------------\u001b[0;32m\nNOTE: If your import is failing due to a missing package, you can\nmanually install dependencies using either !pip or !apt.\n\nTo view examples of installing some common dependencies, click the\n\"Open Examples\" button below.\n\u001b[0;31m---------------------------------------------------------------------------\u001b[0m\n"
          ],
          "errorDetails": {
            "actions": [
              {
                "action": "open_url",
                "actionText": "Open Examples",
                "url": "/notebooks/snippets/importing_libraries.ipynb"
              }
            ]
          }
        }
      ],
      "source": [
        "#Bayesian Model\n",
        "from pgmpy.models import BayesianModel"
      ]
    },
    {
      "cell_type": "markdown",
      "metadata": {
        "id": "VB43QKIdgd9P"
      },
      "source": [
        "### Create an empty Bayesian Network and add nodes, edges to it"
      ]
    },
    {
      "cell_type": "code",
      "execution_count": null,
      "metadata": {
        "collapsed": true,
        "id": "95oHJdb1gd9Q"
      },
      "outputs": [],
      "source": [
        "# initialize an empty BN or a model with nodes and edges.\n",
        "model = BayesianModel()"
      ]
    },
    {
      "cell_type": "code",
      "execution_count": null,
      "metadata": {
        "collapsed": true,
        "id": "rnOCSKP5gd9Q"
      },
      "outputs": [],
      "source": [
        "#Add nodes and edges to this network:\n",
        "model.add_nodes_from(['smog', 'traffic'])\n",
        "model.add_edge('smog', 'traffic')\n"
      ]
    },
    {
      "cell_type": "code",
      "execution_count": null,
      "metadata": {
        "id": "8dkRVis-gd9Q",
        "outputId": "449acc1b-cfc3-4c22-f7cb-a8f82cc6c7e2"
      },
      "outputs": [
        {
          "data": {
            "text/plain": [
              "['smog', 'traffic']"
            ]
          },
          "execution_count": 4,
          "metadata": {},
          "output_type": "execute_result"
        }
      ],
      "source": [
        "model.nodes()"
      ]
    },
    {
      "cell_type": "code",
      "execution_count": null,
      "metadata": {
        "id": "X8Zfhb6rgd9Q",
        "outputId": "e4a7087e-568c-48fd-b0ec-9706518dced7"
      },
      "outputs": [
        {
          "data": {
            "text/plain": [
              "[('smog', 'traffic')]"
            ]
          },
          "execution_count": 5,
          "metadata": {},
          "output_type": "execute_result"
        }
      ],
      "source": [
        "model.edges()"
      ]
    },
    {
      "cell_type": "code",
      "execution_count": null,
      "metadata": {
        "id": "Y6l3pSANgd9R",
        "outputId": "94a3037f-254e-4fd0-c0e8-dd1661aa24bc"
      },
      "outputs": [
        {
          "data": {
            "text/plain": [
              "['smog', 'traffic', 'accident']"
            ]
          },
          "execution_count": 6,
          "metadata": {},
          "output_type": "execute_result"
        }
      ],
      "source": [
        "model.add_edge('accident', 'traffic')\n",
        "model.nodes()"
      ]
    },
    {
      "cell_type": "code",
      "execution_count": null,
      "metadata": {
        "id": "5ucdgef6gd9R",
        "outputId": "423fcbcf-ed54-4dbd-eb0b-9bfe376b7d6b"
      },
      "outputs": [
        {
          "data": {
            "text/plain": [
              "[('smog', 'traffic'), ('accident', 'traffic')]"
            ]
          },
          "execution_count": 7,
          "metadata": {},
          "output_type": "execute_result"
        }
      ],
      "source": [
        "model.edges()"
      ]
    },
    {
      "cell_type": "markdown",
      "metadata": {
        "id": "sPZexkbWgd9R"
      },
      "source": [
        "### Define CPD's for all the nodes and add them to the network"
      ]
    },
    {
      "cell_type": "code",
      "execution_count": null,
      "metadata": {
        "id": "EiJwLYuZgd9R",
        "outputId": "59a9e285-b79b-460d-937d-9777aafdc72f"
      },
      "outputs": [
        {
          "name": "stdout",
          "output_type": "stream",
          "text": [
            "CPD of Smog +--------+-----+\n",
            "| smog_0 | 0.4 |\n",
            "+--------+-----+\n",
            "| smog_1 | 0.6 |\n",
            "+--------+-----+\n",
            "CPD of Accident +------------+-----+\n",
            "| accident_0 | 0.2 |\n",
            "+------------+-----+\n",
            "| accident_1 | 0.8 |\n",
            "+------------+-----+\n",
            "CPD of Traffic Jam +-----------+------------+------------+------------+------------+\n",
            "| smog      | smog_0     | smog_0     | smog_1     | smog_1     |\n",
            "+-----------+------------+------------+------------+------------+\n",
            "| accident  | accident_0 | accident_1 | accident_0 | accident_1 |\n",
            "+-----------+------------+------------+------------+------------+\n",
            "| traffic_0 | 0.9        | 0.6        | 0.7        | 0.1        |\n",
            "+-----------+------------+------------+------------+------------+\n",
            "| traffic_1 | 0.1        | 0.4        | 0.3        | 0.9        |\n",
            "+-----------+------------+------------+------------+------------+\n"
          ]
        }
      ],
      "source": [
        "from pgmpy.factors.discrete import TabularCPD\n",
        "cpd_smog = TabularCPD('smog', 2, [[0.4], [0.6]])\n",
        "cpd_accident = TabularCPD('accident', 2, [[0.2], [0.8]])\n",
        "cpd_traffic = TabularCPD('traffic', 2,\n",
        "                                [[0.9, 0.6, 0.7, 0.1],\n",
        "                                 [0.1, 0.4, 0.3, 0.9]],\n",
        "                                evidence=['smog', 'accident'],\n",
        "                                evidence_card=[2, 2])\n",
        "print(\"CPD of Smog\", cpd_smog, end=\"\\n\")\n",
        "print(\"CPD of Accident\", cpd_accident, end=\"\\n\")\n",
        "print(\"CPD of Traffic Jam\", cpd_traffic, end=\"\\n\")\n"
      ]
    },
    {
      "cell_type": "code",
      "execution_count": null,
      "metadata": {
        "id": "PM0JV1P0gd9S",
        "outputId": "99a26e8a-8ae0-4422-d5fe-b72c8f7ab32f"
      },
      "outputs": [
        {
          "data": {
            "text/plain": [
              "[<TabularCPD representing P(smog:2) at 0x7f3057b0f908>,\n",
              " <TabularCPD representing P(accident:2) at 0x7f3057b0f8d0>,\n",
              " <TabularCPD representing P(traffic:2 | smog:2, accident:2) at 0x7f3057b0f898>]"
            ]
          },
          "execution_count": 9,
          "metadata": {},
          "output_type": "execute_result"
        }
      ],
      "source": [
        "model.add_cpds(cpd_smog, cpd_accident, cpd_traffic)\n",
        "model.get_cpds()\n"
      ]
    },
    {
      "cell_type": "code",
      "execution_count": null,
      "metadata": {
        "id": "2jPK-LMBgd9S",
        "outputId": "d0fa51de-9a04-4465-cd0c-9c3782066c7a"
      },
      "outputs": [
        {
          "data": {
            "text/plain": [
              "[<TabularCPD representing P(smog:2) at 0x7f3057b0f908>,\n",
              " <TabularCPD representing P(accident:2) at 0x7f3057b0f8d0>,\n",
              " <TabularCPD representing P(traffic:2 | smog:2, accident:2) at 0x7f3057b0f898>,\n",
              " <TabularCPD representing P(woke_late:2) at 0x7f3057b0f4a8>,\n",
              " <TabularCPD representing P(late_to_office:2 | woke_late:2, traffic:2) at 0x7f3057b0f3c8>]"
            ]
          },
          "execution_count": 10,
          "metadata": {},
          "output_type": "execute_result"
        }
      ],
      "source": [
        "model.add_nodes_from(['woke_late',\n",
        "                               'late_to_office'])\n",
        "model.add_edges_from(\n",
        "                   [('woke_late', 'late_to_office'),\n",
        "                    ('traffic', 'late_to_office')])\n",
        "cpd_woke_late = TabularCPD('woke_late', 2,\n",
        "                                          [[0.6], [0.4]])\n",
        "cpd_late_to_office = TabularCPD(\n",
        "                               'late_to_office', 2,\n",
        "                               [[0.9, 0.45, 0.8, 0.1],\n",
        "                                [0.1, 0.55, 0.2, 0.9]],\n",
        "                               evidence=['woke_late',\n",
        "                                         'traffic'],evidence_card=[2, 2])\n",
        "model.add_cpds(cpd_woke_late, cpd_late_to_office)\n",
        "model.get_cpds()\n"
      ]
    },
    {
      "cell_type": "markdown",
      "metadata": {
        "id": "t3EDo8KVgd9S"
      },
      "source": [
        "### Model consistency"
      ]
    },
    {
      "cell_type": "code",
      "execution_count": null,
      "metadata": {
        "id": "XwZO8fKHgd9S",
        "outputId": "b7794274-b714-40b6-fd0b-8be751d3cbf5"
      },
      "outputs": [
        {
          "data": {
            "text/plain": [
              "True"
            ]
          },
          "execution_count": 11,
          "metadata": {},
          "output_type": "execute_result"
        }
      ],
      "source": [
        "model.check_model()"
      ]
    },
    {
      "cell_type": "markdown",
      "metadata": {
        "id": "lHH8P7G6gd9T"
      },
      "source": [
        "### Local Dependencies"
      ]
    },
    {
      "cell_type": "code",
      "execution_count": null,
      "metadata": {
        "id": "DaIAD5ojgd9T",
        "outputId": "a898afde-2886-4d2d-e71c-70ceee569bb7"
      },
      "outputs": [
        {
          "data": {
            "text/plain": [
              "(traffic _|_ woke_late | accident, smog)"
            ]
          },
          "execution_count": 12,
          "metadata": {},
          "output_type": "execute_result"
        }
      ],
      "source": [
        "\n",
        "model.local_independencies('traffic')\n"
      ]
    },
    {
      "cell_type": "code",
      "execution_count": null,
      "metadata": {
        "id": "2oPRpt9_gd9T",
        "outputId": "2ddd0f48-2c97-4f9f-dbd9-4df845f10d6e"
      },
      "outputs": [
        {
          "data": {
            "text/plain": [
              "(woke_late _|_ accident, smog, traffic)\n",
              "(traffic _|_ woke_late | accident, smog)\n",
              "(accident _|_ smog, woke_late)\n",
              "(smog _|_ accident, woke_late)\n",
              "(late_to_office _|_ accident, smog | traffic, woke_late)"
            ]
          },
          "execution_count": 13,
          "metadata": {},
          "output_type": "execute_result"
        }
      ],
      "source": [
        "model.local_independencies(['woke_late', 'traffic', 'accident','smog', 'late_to_office'])"
      ]
    },
    {
      "cell_type": "markdown",
      "metadata": {
        "id": "aOARfrj-gd9T"
      },
      "source": [
        "### Graphical Representation of the Network"
      ]
    },
    {
      "cell_type": "code",
      "execution_count": null,
      "metadata": {
        "scrolled": true,
        "id": "X-ouqEiggd9T",
        "outputId": "c8c6cf0a-af73-4a63-ca8e-d8f47b0338ed"
      },
      "outputs": [
        {
          "data": {
            "image/png": "[encoded data removed]",
            "text/plain": [
              "<matplotlib.figure.Figure at 0x7f3057b0f9b0>"
            ]
          },
          "metadata": {},
          "output_type": "display_data"
        }
      ],
      "source": [
        "import warnings\n",
        "warnings.filterwarnings(\"ignore\")\n",
        "import matplotlib.pyplot as plt\n",
        "import networkx as nx\n",
        "nx.draw_shell(model,with_labels=True)\n",
        "plt.show()\n"
      ]
    },
    {
      "cell_type": "markdown",
      "source": [
        "### Assignment"
      ],
      "metadata": {
        "id": "SAS6L7WKFBQ8"
      }
    },
    {
      "cell_type": "markdown",
      "source": [
        "1. Explain the influence of each customer attribute on campaign Success using the given\n",
        "Bayesian Network.\n",
        "2. Draw the Bayesian Network diagram showing nodes and directed edges as per the\n",
        "dependency structure described above.\n",
        "3. What is the probability that a customer purchased after the campaign (Success = Yes),\n",
        "given that the customer is Female?\n",
        "4. Among customers aged 35, what proportion reported Success = Yes in the\n",
        "campaign?\n",
        "5. Is there a significant difference in Success rates between Employed and Unemployed\n",
        "customers?\n",
        "6. Among customers who have a Business = Yes and are Married, what is the\n",
        "probability of Success?\n",
        "7. What is the joint probability of a Male, ≤35 years old, Employed, Married customer\n",
        "achieving Success?"
      ],
      "metadata": {
        "id": "-qbK94d_E4_S"
      }
    },
    {
      "cell_type": "markdown",
      "source": [
        "Explain the influence of each customer attribute on campaign Success using the given Bayesian Network."
      ],
      "metadata": {
        "id": "vSqMEaAFFGVs"
      }
    },
    {
      "cell_type": "code",
      "metadata": {
        "colab": {
          "base_uri": "https://localhost:8080/"
        },
        "id": "baabe3d6",
        "outputId": "959ca787-7791-41ea-c3c2-c4fe80d52dd3"
      },
      "source": [
        "from pgmpy.models import DiscreteBayesianNetwork\n",
        "from pgmpy.factors.discrete import TabularCPD\n",
        "model = DiscreteBayesianNetwork([\n",
        "    ('Gender', 'Success'),\n",
        "    ('Age', 'Success'),\n",
        "    ('Employment', 'Success'),\n",
        "    ('Marital_Status', 'Success'),\n",
        "    ('Business', 'Success')\n",
        "])\n",
        "cpd_gender = TabularCPD(variable='Gender', variable_card=2, values=[[0.5], [0.5]], state_names={'Gender': ['Male', 'Female']})\n",
        "cpd_age = TabularCPD(variable='Age', variable_card=2, values=[[0.6], [0.4]], state_names={'Age': ['<=35', '>35']})\n",
        "cpd_employment = TabularCPD(variable='Employment', variable_card=2, values=[[0.7], [0.3]], state_names={'Employment': ['Employed', 'Unemployed']})\n",
        "cpd_marital = TabularCPD(variable='Marital_Status', variable_card=2, values=[[0.6], [0.4]], state_names={'Marital_Status': ['Married', 'Single']})\n",
        "cpd_business = TabularCPD(variable='Business', variable_card=2, values=[[0.4], [0.6]], state_names={'Business': ['Yes', 'No']})\n",
        "cpd_success = TabularCPD(\n",
        "    variable='Success',\n",
        "    variable_card=2,\n",
        "    values=[\n",
        "        [0.6, 0.7, 0.8, 0.9, 0.4, 0.5, 0.6, 0.7, 0.2, 0.3, 0.4, 0.5, 0.1, 0.2, 0.3, 0.4,\n",
        "         0.5, 0.6, 0.7, 0.8, 0.3, 0.4, 0.5, 0.6, 0.1, 0.2, 0.3, 0.4, 0.05, 0.1, 0.15, 0.2],\n",
        "        [0.4, 0.3, 0.2, 0.1, 0.6, 0.5, 0.4, 0.3, 0.8, 0.7, 0.6, 0.5, 0.9, 0.8, 0.7, 0.6,\n",
        "         0.5, 0.4, 0.3, 0.2, 0.7, 0.6, 0.5, 0.4, 0.9, 0.8, 0.7, 0.6, 0.95, 0.9, 0.85, 0.8]\n",
        "    ],\n",
        "    evidence=['Gender', 'Age', 'Employment', 'Marital_Status', 'Business'],\n",
        "    evidence_card=[2, 2, 2, 2, 2],\n",
        "    state_names={\n",
        "        'Success': ['Yes', 'No'],\n",
        "        'Gender': ['Male', 'Female'],\n",
        "        'Age': ['<=35', '>35'],\n",
        "        'Employment': ['Employed', 'Unemployed'],\n",
        "        'Marital_Status': ['Married', 'Single'],\n",
        "        'Business': ['Yes', 'No']\n",
        "    }\n",
        ")\n",
        "model.add_cpds(cpd_gender, cpd_age, cpd_employment, cpd_marital, cpd_business, cpd_success)\n",
        "model.check_model()"
      ],
      "execution_count": null,
      "outputs": [
        {
          "output_type": "execute_result",
          "data": {
            "text/plain": [
              "True"
            ]
          },
          "metadata": {},
          "execution_count": 10
        }
      ]
    },
    {
      "cell_type": "markdown",
      "metadata": {
        "id": "89857045"
      },
      "source": [
        "Draw the Bayesian Network diagram showing nodes and directed edges as per the dependency structure described above."
      ]
    },
    {
      "cell_type": "code",
      "metadata": {
        "colab": {
          "base_uri": "https://localhost:8080/",
          "height": 539
        },
        "id": "c337b34c",
        "outputId": "50a6609d-2bce-4b5e-dce9-fb01e610a7b3"
      },
      "source": [
        "import networkx as nx\n",
        "import matplotlib.pyplot as plt\n",
        "\n",
        "graph = nx.DiGraph(model.edges())\n",
        "pos = nx.spring_layout(graph, seed=42)\n",
        "nx.draw(graph, pos, with_labels=True, node_size=2000, node_color='skyblue', font_size=10, arrowsize=20)\n",
        "plt.title('Bayesian Network for Campaign Success')\n",
        "plt.show()"
      ],
      "execution_count": null,
      "outputs": [
        {
          "output_type": "display_data",
          "data": {
            "text/plain": [
              "<Figure size 640x480 with 1 Axes>"
            ],
            "image/png": "[encoded data removed]"
          },
          "metadata": {}
        }
      ]
    },
    {
      "cell_type": "markdown",
      "metadata": {
        "id": "8bc746e6"
      },
      "source": [
        "What is the probability that a customer purchased after the campaign (Success = Yes), given that the customer is Female?"
      ]
    },
    {
      "cell_type": "code",
      "metadata": {
        "colab": {
          "base_uri": "https://localhost:8080/"
        },
        "id": "2510f2ee",
        "outputId": "1937b69b-fe95-4d6f-9563-f4cd6db672a4"
      },
      "source": [
        "from pgmpy.inference import VariableElimination\n",
        "\n",
        "inference = VariableElimination(model)\n",
        "result = inference.query(variables=['Success'], evidence={'Gender': 'Female'})\n",
        "print(result)"
      ],
      "execution_count": null,
      "outputs": [
        {
          "output_type": "stream",
          "name": "stdout",
          "text": [
            "+--------------+----------------+\n",
            "| Success      |   phi(Success) |\n",
            "+==============+================+\n",
            "| Success(Yes) |         0.4296 |\n",
            "+--------------+----------------+\n",
            "| Success(No)  |         0.5704 |\n",
            "+--------------+----------------+\n"
          ]
        }
      ]
    },
    {
      "cell_type": "markdown",
      "metadata": {
        "id": "86802c8c"
      },
      "source": [
        "Among customers aged >35, what proportion reported Success = Yes in the campaign?"
      ]
    },
    {
      "cell_type": "code",
      "metadata": {
        "colab": {
          "base_uri": "https://localhost:8080/"
        },
        "id": "e5d3b83a",
        "outputId": "d1381c9c-4328-4183-bdf5-82a391836190"
      },
      "source": [
        "from pgmpy.inference import VariableElimination\n",
        "\n",
        "inference = VariableElimination(model)\n",
        "result = inference.query(variables=['Success'], evidence={'Age': '>35'})\n",
        "print(result)"
      ],
      "execution_count": null,
      "outputs": [
        {
          "output_type": "stream",
          "name": "stdout",
          "text": [
            "+--------------+----------------+\n",
            "| Success      |   phi(Success) |\n",
            "+==============+================+\n",
            "| Success(Yes) |         0.2570 |\n",
            "+--------------+----------------+\n",
            "| Success(No)  |         0.7430 |\n",
            "+--------------+----------------+\n"
          ]
        }
      ]
    },
    {
      "cell_type": "markdown",
      "metadata": {
        "id": "54842c07"
      },
      "source": [
        "Is there a significant difference in Success rates between Employed and Unemployed customers?"
      ]
    },
    {
      "cell_type": "code",
      "metadata": {
        "colab": {
          "base_uri": "https://localhost:8080/"
        },
        "id": "7d3e6cfe",
        "outputId": "48c8ec4a-ca68-4dd6-e11b-c63607b23bc4"
      },
      "source": [
        "from pgmpy.inference import VariableElimination\n",
        "\n",
        "inference = VariableElimination(model)\n",
        "prob_success_employed = inference.query(variables=['Success'], evidence={'Employment': 'Employed'})\n",
        "prob_success_unemployed = inference.query(variables=['Success'], evidence={'Employment': 'Unemployed'})\n",
        "\n",
        "print(\"Probability of Success given Employed:\")\n",
        "print(prob_success_employed)\n",
        "print(\"\\nProbability of Success given Unemployed:\")\n",
        "print(prob_success_unemployed)"
      ],
      "execution_count": null,
      "outputs": [
        {
          "output_type": "stream",
          "name": "stdout",
          "text": [
            "Probability of Success given Employed:\n",
            "+--------------+----------------+\n",
            "| Success      |   phi(Success) |\n",
            "+==============+================+\n",
            "| Success(Yes) |         0.5300 |\n",
            "+--------------+----------------+\n",
            "| Success(No)  |         0.4700 |\n",
            "+--------------+----------------+\n",
            "\n",
            "Probability of Success given Unemployed:\n",
            "+--------------+----------------+\n",
            "| Success      |   phi(Success) |\n",
            "+==============+================+\n",
            "| Success(Yes) |         0.3660 |\n",
            "+--------------+----------------+\n",
            "| Success(No)  |         0.6340 |\n",
            "+--------------+----------------+\n"
          ]
        }
      ]
    },
    {
      "cell_type": "markdown",
      "metadata": {
        "id": "e3498c3d"
      },
      "source": [
        "Among customers who have a Business = Yes and are Married, what is the probability of Success?"
      ]
    },
    {
      "cell_type": "code",
      "metadata": {
        "colab": {
          "base_uri": "https://localhost:8080/"
        },
        "id": "63c47b0e",
        "outputId": "ff82ad37-d567-4727-c9a2-e517e0bd5544"
      },
      "source": [
        "from pgmpy.inference import VariableElimination\n",
        "\n",
        "inference = VariableElimination(model)\n",
        "result = inference.query(variables=['Success'], evidence={'Business': 'Yes', 'Marital_Status': 'Married'})\n",
        "print(result)"
      ],
      "execution_count": null,
      "outputs": [
        {
          "output_type": "stream",
          "name": "stdout",
          "text": [
            "+--------------+----------------+\n",
            "| Success      |   phi(Success) |\n",
            "+==============+================+\n",
            "| Success(Yes) |         0.3450 |\n",
            "+--------------+----------------+\n",
            "| Success(No)  |         0.6550 |\n",
            "+--------------+----------------+\n"
          ]
        }
      ]
    },
    {
      "cell_type": "markdown",
      "metadata": {
        "id": "8e5ec896"
      },
      "source": [
        "What is the joint probability of a Male, ≤35 years old, Employed, Married customer achieving Success?"
      ]
    },
    {
      "cell_type": "code",
      "metadata": {
        "colab": {
          "base_uri": "https://localhost:8080/"
        },
        "id": "88c738c4",
        "outputId": "62f643bd-f097-46c1-b0d0-ee09e6dfe4ff"
      },
      "source": [
        "from pgmpy.inference import VariableElimination\n",
        "\n",
        "inference = VariableElimination(model)\n",
        "result = inference.query(variables=['Success'],\n",
        "                       evidence={'Gender': 'Male', 'Age': '<=35', 'Employment': 'Employed', 'Marital_Status': 'Married'})\n",
        "print(result)"
      ],
      "execution_count": null,
      "outputs": [
        {
          "output_type": "stream",
          "name": "stdout",
          "text": [
            "+--------------+----------------+\n",
            "| Success      |   phi(Success) |\n",
            "+==============+================+\n",
            "| Success(Yes) |         0.6600 |\n",
            "+--------------+----------------+\n",
            "| Success(No)  |         0.3400 |\n",
            "+--------------+----------------+\n"
          ]
        }
      ]
    }
  ],
  "metadata": {
    "kernelspec": {
      "display_name": "Python 3",
      "language": "python",
      "name": "python3"
    },
    "language_info": {
      "codemirror_mode": {
        "name": "ipython",
        "version": 3
      },
      "file_extension": ".py",
      "mimetype": "text/x-python",
      "name": "python",
      "nbconvert_exporter": "python",
      "pygments_lexer": "ipython3",
      "version": "3.6.3"
    },
    "colab": {
      "provenance": []
    }
  },
  "nbformat": 4,
  "nbformat_minor": 0
}